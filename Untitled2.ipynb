{
 "cells": [
  {
   "cell_type": "code",
   "execution_count": 1,
   "id": "civic-dimension",
   "metadata": {},
   "outputs": [],
   "source": [
    "#webcam photo click\n",
    "#pip install boto3\n",
    "#pip install opencv-python\n",
    "import cv2"
   ]
  },
  {
   "cell_type": "code",
   "execution_count": 2,
   "id": "musical-corner",
   "metadata": {},
   "outputs": [],
   "source": [
    "cap=cv2.VideoCapture(0)"
   ]
  },
  {
   "cell_type": "code",
   "execution_count": 3,
   "id": "helpful-diamond",
   "metadata": {},
   "outputs": [],
   "source": [
    "ret , photo = cap.read()"
   ]
  },
  {
   "cell_type": "code",
   "execution_count": 4,
   "id": "broke-capability",
   "metadata": {},
   "outputs": [
    {
     "data": {
      "text/plain": [
       "True"
      ]
     },
     "execution_count": 4,
     "metadata": {},
     "output_type": "execute_result"
    }
   ],
   "source": [
    "ret"
   ]
  },
  {
   "cell_type": "code",
   "execution_count": 5,
   "id": "wired-crest",
   "metadata": {},
   "outputs": [
    {
     "data": {
      "text/plain": [
       "True"
      ]
     },
     "execution_count": 5,
     "metadata": {},
     "output_type": "execute_result"
    }
   ],
   "source": [
    "myphoto=\"vishal.jpg\"\n",
    "cv2.imwrite(myphoto,photo)"
   ]
  },
  {
   "cell_type": "code",
   "execution_count": 6,
   "id": "unexpected-rehabilitation",
   "metadata": {},
   "outputs": [],
   "source": [
    "cap.release()"
   ]
  },
  {
   "cell_type": "code",
   "execution_count": 7,
   "id": "hundred-doctrine",
   "metadata": {},
   "outputs": [],
   "source": [
    "import boto3"
   ]
  },
  {
   "cell_type": "code",
   "execution_count": 11,
   "id": "celtic-civilian",
   "metadata": {},
   "outputs": [],
   "source": [
    "#using aws s3 service using python boto3 library\n",
    "s3=boto3.resource('s3')"
   ]
  },
  {
   "cell_type": "code",
   "execution_count": 12,
   "id": "determined-filing",
   "metadata": {},
   "outputs": [],
   "source": [
    "#bucket should be present in aws s3\n",
    "bucket=\"awsaiworkshop2021\""
   ]
  },
  {
   "cell_type": "code",
   "execution_count": 13,
   "id": "literary-conspiracy",
   "metadata": {},
   "outputs": [],
   "source": [
    "s3.Bucket(bucket).upload_file(myphoto, 'file.jpg')"
   ]
  },
  {
   "cell_type": "code",
   "execution_count": 14,
   "id": "increased-needle",
   "metadata": {},
   "outputs": [],
   "source": [
    "#connect rek : ask for part method\n",
    "rek=boto3.client('rekognition','ap-south-1')"
   ]
  },
  {
   "cell_type": "code",
   "execution_count": 19,
   "id": "expanded-saskatchewan",
   "metadata": {},
   "outputs": [],
   "source": [
    "response=rek.detect_labels(\n",
    "Image={\n",
    "          'S3Object': {\n",
    "              'Bucket': bucket,\n",
    "              'Name': 'file.jpg',\n",
    "          }\n",
    "      },\n",
    "      MaxLabels=10,\n",
    "      MinConfidence=90\n",
    "\n",
    ")"
   ]
  },
  {
   "cell_type": "code",
   "execution_count": 20,
   "id": "bizarre-research",
   "metadata": {},
   "outputs": [
    {
     "data": {
      "text/plain": [
       "{'Labels': [{'Name': 'Person',\n",
       "   'Confidence': 99.53356170654297,\n",
       "   'Instances': [{'BoundingBox': {'Width': 0.8161619305610657,\n",
       "      'Height': 0.861343264579773,\n",
       "      'Left': 0.009998512454330921,\n",
       "      'Top': 0.1256726235151291},\n",
       "     'Confidence': 99.53356170654297}],\n",
       "   'Parents': []},\n",
       "  {'Name': 'Human',\n",
       "   'Confidence': 99.53356170654297,\n",
       "   'Instances': [],\n",
       "   'Parents': []},\n",
       "  {'Name': 'Face',\n",
       "   'Confidence': 98.76499938964844,\n",
       "   'Instances': [],\n",
       "   'Parents': [{'Name': 'Person'}]},\n",
       "  {'Name': 'Head',\n",
       "   'Confidence': 90.7453842163086,\n",
       "   'Instances': [],\n",
       "   'Parents': []}],\n",
       " 'LabelModelVersion': '2.0',\n",
       " 'ResponseMetadata': {'RequestId': '61c859b1-f6fe-4ffc-a1b8-54b8e8dad872',\n",
       "  'HTTPStatusCode': 200,\n",
       "  'HTTPHeaders': {'content-type': 'application/x-amz-json-1.1',\n",
       "   'date': 'Sun, 04 Apr 2021 03:34:09 GMT',\n",
       "   'x-amzn-requestid': '61c859b1-f6fe-4ffc-a1b8-54b8e8dad872',\n",
       "   'content-length': '512',\n",
       "   'connection': 'keep-alive'},\n",
       "  'RetryAttempts': 0}}"
      ]
     },
     "execution_count": 20,
     "metadata": {},
     "output_type": "execute_result"
    }
   ],
   "source": [
    "response"
   ]
  },
  {
   "cell_type": "code",
   "execution_count": 23,
   "id": "optimum-providence",
   "metadata": {},
   "outputs": [
    {
     "name": "stdout",
     "output_type": "stream",
     "text": [
      "Person\n",
      "Human\n",
      "Face\n",
      "Head\n"
     ]
    }
   ],
   "source": [
    "for i in range(4):\n",
    "    print(response['Labels'][i]['Name'])"
   ]
  },
  {
   "cell_type": "code",
   "execution_count": null,
   "id": "fifth-leisure",
   "metadata": {},
   "outputs": [],
   "source": []
  }
 ],
 "metadata": {
  "kernelspec": {
   "display_name": "Python 3",
   "language": "python",
   "name": "python3"
  },
  "language_info": {
   "codemirror_mode": {
    "name": "ipython",
    "version": 3
   },
   "file_extension": ".py",
   "mimetype": "text/x-python",
   "name": "python",
   "nbconvert_exporter": "python",
   "pygments_lexer": "ipython3",
   "version": "3.7.9"
  }
 },
 "nbformat": 4,
 "nbformat_minor": 5
}
